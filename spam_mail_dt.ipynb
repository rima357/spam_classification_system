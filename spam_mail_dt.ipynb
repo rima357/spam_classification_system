{
  "nbformat": 4,
  "nbformat_minor": 0,
  "metadata": {
    "colab": {
      "provenance": []
    },
    "kernelspec": {
      "name": "python3",
      "display_name": "Python 3"
    },
    "language_info": {
      "name": "python"
    }
  },
  "cells": [
    {
      "cell_type": "markdown",
      "source": [
        "SPAM mail prediction"
      ],
      "metadata": {
        "id": "I05jhOBIFOs3"
      }
    },
    {
      "cell_type": "code",
      "source": [
        "import numpy as np\n",
        "import pandas as pd\n",
        "from sklearn.model_selection import train_test_split\n",
        "from sklearn.feature_extraction.text import TfidfVectorizer\n",
        "from sklearn import tree\n",
        "from sklearn.metrics import accuracy_score , f1_score , precision_score , recall_score"
      ],
      "metadata": {
        "id": "XbDlFjT9FU-5"
      },
      "execution_count": null,
      "outputs": []
    },
    {
      "cell_type": "markdown",
      "source": [
        "Data Collection"
      ],
      "metadata": {
        "id": "2KbQnJP-Gw2z"
      }
    },
    {
      "cell_type": "code",
      "source": [
        "raw_mail_data=pd.read_csv('/content/mail_data.csv')"
      ],
      "metadata": {
        "id": "cpBYuyigFn2V"
      },
      "execution_count": null,
      "outputs": []
    },
    {
      "cell_type": "markdown",
      "source": [],
      "metadata": {
        "id": "XCr1Y74FXhDL"
      }
    },
    {
      "cell_type": "code",
      "source": [
        "raw_mail_data.head()"
      ],
      "metadata": {
        "colab": {
          "base_uri": "https://localhost:8080/",
          "height": 206
        },
        "id": "er_IND4DHRLK",
        "outputId": "bb9056d5-987a-47d4-a97f-c4e9716adc5e"
      },
      "execution_count": null,
      "outputs": [
        {
          "output_type": "execute_result",
          "data": {
            "text/plain": [
              "  Category                                            Message\n",
              "0      ham  Go until jurong point, crazy.. Available only ...\n",
              "1      ham                      Ok lar... Joking wif u oni...\n",
              "2     spam  Free entry in 2 a wkly comp to win FA Cup fina...\n",
              "3      ham  U dun say so early hor... U c already then say...\n",
              "4      ham  Nah I don't think he goes to usf, he lives aro..."
            ],
            "text/html": [
              "\n",
              "  <div id=\"df-d806e732-ee44-4ae4-a2ce-f07b3ea1121c\">\n",
              "    <div class=\"colab-df-container\">\n",
              "      <div>\n",
              "<style scoped>\n",
              "    .dataframe tbody tr th:only-of-type {\n",
              "        vertical-align: middle;\n",
              "    }\n",
              "\n",
              "    .dataframe tbody tr th {\n",
              "        vertical-align: top;\n",
              "    }\n",
              "\n",
              "    .dataframe thead th {\n",
              "        text-align: right;\n",
              "    }\n",
              "</style>\n",
              "<table border=\"1\" class=\"dataframe\">\n",
              "  <thead>\n",
              "    <tr style=\"text-align: right;\">\n",
              "      <th></th>\n",
              "      <th>Category</th>\n",
              "      <th>Message</th>\n",
              "    </tr>\n",
              "  </thead>\n",
              "  <tbody>\n",
              "    <tr>\n",
              "      <th>0</th>\n",
              "      <td>ham</td>\n",
              "      <td>Go until jurong point, crazy.. Available only ...</td>\n",
              "    </tr>\n",
              "    <tr>\n",
              "      <th>1</th>\n",
              "      <td>ham</td>\n",
              "      <td>Ok lar... Joking wif u oni...</td>\n",
              "    </tr>\n",
              "    <tr>\n",
              "      <th>2</th>\n",
              "      <td>spam</td>\n",
              "      <td>Free entry in 2 a wkly comp to win FA Cup fina...</td>\n",
              "    </tr>\n",
              "    <tr>\n",
              "      <th>3</th>\n",
              "      <td>ham</td>\n",
              "      <td>U dun say so early hor... U c already then say...</td>\n",
              "    </tr>\n",
              "    <tr>\n",
              "      <th>4</th>\n",
              "      <td>ham</td>\n",
              "      <td>Nah I don't think he goes to usf, he lives aro...</td>\n",
              "    </tr>\n",
              "  </tbody>\n",
              "</table>\n",
              "</div>\n",
              "      <button class=\"colab-df-convert\" onclick=\"convertToInteractive('df-d806e732-ee44-4ae4-a2ce-f07b3ea1121c')\"\n",
              "              title=\"Convert this dataframe to an interactive table.\"\n",
              "              style=\"display:none;\">\n",
              "        \n",
              "  <svg xmlns=\"http://www.w3.org/2000/svg\" height=\"24px\"viewBox=\"0 0 24 24\"\n",
              "       width=\"24px\">\n",
              "    <path d=\"M0 0h24v24H0V0z\" fill=\"none\"/>\n",
              "    <path d=\"M18.56 5.44l.94 2.06.94-2.06 2.06-.94-2.06-.94-.94-2.06-.94 2.06-2.06.94zm-11 1L8.5 8.5l.94-2.06 2.06-.94-2.06-.94L8.5 2.5l-.94 2.06-2.06.94zm10 10l.94 2.06.94-2.06 2.06-.94-2.06-.94-.94-2.06-.94 2.06-2.06.94z\"/><path d=\"M17.41 7.96l-1.37-1.37c-.4-.4-.92-.59-1.43-.59-.52 0-1.04.2-1.43.59L10.3 9.45l-7.72 7.72c-.78.78-.78 2.05 0 2.83L4 21.41c.39.39.9.59 1.41.59.51 0 1.02-.2 1.41-.59l7.78-7.78 2.81-2.81c.8-.78.8-2.07 0-2.86zM5.41 20L4 18.59l7.72-7.72 1.47 1.35L5.41 20z\"/>\n",
              "  </svg>\n",
              "      </button>\n",
              "      \n",
              "  <style>\n",
              "    .colab-df-container {\n",
              "      display:flex;\n",
              "      flex-wrap:wrap;\n",
              "      gap: 12px;\n",
              "    }\n",
              "\n",
              "    .colab-df-convert {\n",
              "      background-color: #E8F0FE;\n",
              "      border: none;\n",
              "      border-radius: 50%;\n",
              "      cursor: pointer;\n",
              "      display: none;\n",
              "      fill: #1967D2;\n",
              "      height: 32px;\n",
              "      padding: 0 0 0 0;\n",
              "      width: 32px;\n",
              "    }\n",
              "\n",
              "    .colab-df-convert:hover {\n",
              "      background-color: #E2EBFA;\n",
              "      box-shadow: 0px 1px 2px rgba(60, 64, 67, 0.3), 0px 1px 3px 1px rgba(60, 64, 67, 0.15);\n",
              "      fill: #174EA6;\n",
              "    }\n",
              "\n",
              "    [theme=dark] .colab-df-convert {\n",
              "      background-color: #3B4455;\n",
              "      fill: #D2E3FC;\n",
              "    }\n",
              "\n",
              "    [theme=dark] .colab-df-convert:hover {\n",
              "      background-color: #434B5C;\n",
              "      box-shadow: 0px 1px 3px 1px rgba(0, 0, 0, 0.15);\n",
              "      filter: drop-shadow(0px 1px 2px rgba(0, 0, 0, 0.3));\n",
              "      fill: #FFFFFF;\n",
              "    }\n",
              "  </style>\n",
              "\n",
              "      <script>\n",
              "        const buttonEl =\n",
              "          document.querySelector('#df-d806e732-ee44-4ae4-a2ce-f07b3ea1121c button.colab-df-convert');\n",
              "        buttonEl.style.display =\n",
              "          google.colab.kernel.accessAllowed ? 'block' : 'none';\n",
              "\n",
              "        async function convertToInteractive(key) {\n",
              "          const element = document.querySelector('#df-d806e732-ee44-4ae4-a2ce-f07b3ea1121c');\n",
              "          const dataTable =\n",
              "            await google.colab.kernel.invokeFunction('convertToInteractive',\n",
              "                                                     [key], {});\n",
              "          if (!dataTable) return;\n",
              "\n",
              "          const docLinkHtml = 'Like what you see? Visit the ' +\n",
              "            '<a target=\"_blank\" href=https://colab.research.google.com/notebooks/data_table.ipynb>data table notebook</a>'\n",
              "            + ' to learn more about interactive tables.';\n",
              "          element.innerHTML = '';\n",
              "          dataTable['output_type'] = 'display_data';\n",
              "          await google.colab.output.renderOutput(dataTable, element);\n",
              "          const docLink = document.createElement('div');\n",
              "          docLink.innerHTML = docLinkHtml;\n",
              "          element.appendChild(docLink);\n",
              "        }\n",
              "      </script>\n",
              "    </div>\n",
              "  </div>\n",
              "  "
            ]
          },
          "metadata": {},
          "execution_count": 59
        }
      ]
    },
    {
      "cell_type": "code",
      "source": [
        "#replace the null value with a null with a null string\n",
        "mail_data=raw_mail_data.where((pd.notnull(raw_mail_data)),'')"
      ],
      "metadata": {
        "id": "FYLyCxGAHWaH"
      },
      "execution_count": null,
      "outputs": []
    },
    {
      "cell_type": "code",
      "source": [
        "#checking the number of row and column\n",
        "mail_data.shape"
      ],
      "metadata": {
        "colab": {
          "base_uri": "https://localhost:8080/"
        },
        "id": "GAKyu9WQIM7N",
        "outputId": "cf004c03-a03d-4407-81cf-e816d555cdd7"
      },
      "execution_count": null,
      "outputs": [
        {
          "output_type": "execute_result",
          "data": {
            "text/plain": [
              "(5572, 2)"
            ]
          },
          "metadata": {},
          "execution_count": 61
        }
      ]
    },
    {
      "cell_type": "markdown",
      "source": [
        "Lable encoding"
      ],
      "metadata": {
        "id": "8OlqNGSiIh94"
      }
    },
    {
      "cell_type": "code",
      "source": [
        "#lable spam mail as 1 and ham mail as 0\n",
        "mail_data.loc[mail_data['Category']=='spam','Category',]=1\n",
        "mail_data.loc[mail_data['Category']=='ham','Category',]=0"
      ],
      "metadata": {
        "id": "KNXCXzp3Id5g"
      },
      "execution_count": null,
      "outputs": []
    },
    {
      "cell_type": "code",
      "source": [
        "#separating the data as text and lable\n",
        "x=mail_data['Message']\n",
        "y=mail_data['Category']"
      ],
      "metadata": {
        "id": "39MRgb1wJNWc"
      },
      "execution_count": null,
      "outputs": []
    },
    {
      "cell_type": "code",
      "source": [
        "print(x)\n",
        "print(y)"
      ],
      "metadata": {
        "colab": {
          "base_uri": "https://localhost:8080/"
        },
        "id": "ExAO4R6vJnjz",
        "outputId": "770036b5-e5a7-4b47-8d2e-42cb3a516f20"
      },
      "execution_count": null,
      "outputs": [
        {
          "output_type": "stream",
          "name": "stdout",
          "text": [
            "0       Go until jurong point, crazy.. Available only ...\n",
            "1                           Ok lar... Joking wif u oni...\n",
            "2       Free entry in 2 a wkly comp to win FA Cup fina...\n",
            "3       U dun say so early hor... U c already then say...\n",
            "4       Nah I don't think he goes to usf, he lives aro...\n",
            "                              ...                        \n",
            "5567    This is the 2nd time we have tried 2 contact u...\n",
            "5568                 Will ü b going to esplanade fr home?\n",
            "5569    Pity, * was in mood for that. So...any other s...\n",
            "5570    The guy did some bitching but I acted like i'd...\n",
            "5571                           Rofl. Its true to its name\n",
            "Name: Message, Length: 5572, dtype: object\n",
            "0       0\n",
            "1       0\n",
            "2       1\n",
            "3       0\n",
            "4       0\n",
            "       ..\n",
            "5567    1\n",
            "5568    0\n",
            "5569    0\n",
            "5570    0\n",
            "5571    0\n",
            "Name: Category, Length: 5572, dtype: object\n"
          ]
        }
      ]
    },
    {
      "cell_type": "markdown",
      "source": [
        "spliting the data into training data and test data"
      ],
      "metadata": {
        "id": "-z9ZlHkTLURi"
      }
    },
    {
      "cell_type": "code",
      "source": [
        "x_train,x_test,y_train,y_test=train_test_split(x,y,test_size=0.2,random_state=3)"
      ],
      "metadata": {
        "id": "T5OV0i-HKDMs"
      },
      "execution_count": null,
      "outputs": []
    },
    {
      "cell_type": "markdown",
      "source": [
        "feature extraction "
      ],
      "metadata": {
        "id": "mS4DWY2CMDgz"
      }
    },
    {
      "cell_type": "code",
      "source": [
        "#transform the text data to feature vectors that can be used as input to the Decision tree model\n",
        "feature=TfidfVectorizer(min_df=1,stop_words='english',lowercase='True')\n",
        "x_train_feature=feature.fit_transform(x_train)\n",
        "x_test_feature=feature.transform(x_test)\n",
        "#convert y_train and y_test values as integer\n",
        "y_train=y_train.astype('int')\n",
        "y_test=y_test.astype('int')"
      ],
      "metadata": {
        "id": "dv_vSfAsL0Mf"
      },
      "execution_count": null,
      "outputs": []
    },
    {
      "cell_type": "markdown",
      "source": [
        "model"
      ],
      "metadata": {
        "id": "FvPzJme5OUfO"
      }
    },
    {
      "cell_type": "code",
      "source": [
        "cls=tree.DecisionTreeClassifier()\n",
        "cls.fit(x_train_feature,y_train)"
      ],
      "metadata": {
        "colab": {
          "base_uri": "https://localhost:8080/"
        },
        "id": "ZzU2uvvINZSL",
        "outputId": "0922ff24-ff68-4e37-efd2-6b661cca6d8c"
      },
      "execution_count": null,
      "outputs": [
        {
          "output_type": "execute_result",
          "data": {
            "text/plain": [
              "DecisionTreeClassifier()"
            ]
          },
          "metadata": {},
          "execution_count": 67
        }
      ]
    },
    {
      "cell_type": "markdown",
      "source": [
        "accuracy on training data"
      ],
      "metadata": {
        "id": "AjviWuWCO41H"
      }
    },
    {
      "cell_type": "code",
      "source": [
        "y_train_pred=cls.predict(x_train_feature)\n",
        "train_accu=accuracy_score(y_train,y_train_pred)\n",
        "train_pre=precision_score(y_train,y_train_pred)\n",
        "train_re=recall_score(y_train,y_train_pred)\n",
        "train_f1=f1_score(y_train,y_train_pred)\n",
        "print(\"accuracy score on training data \",train_accu)\n",
        "print(\"precision score on training data \",train_pre)\n",
        "print(\"recall score on training data \",train_re)\n",
        "print(\"f1 score on training data \",train_f1)"
      ],
      "metadata": {
        "colab": {
          "base_uri": "https://localhost:8080/"
        },
        "id": "hNc_yoDsO1dD",
        "outputId": "aba29781-a95e-4edc-f793-5f351e51992b"
      },
      "execution_count": null,
      "outputs": [
        {
          "output_type": "stream",
          "name": "stdout",
          "text": [
            "accuracy score on training data  1.0\n",
            "precision score on training data  1.0\n",
            "recall score on training data  1.0\n",
            "f1 score on training data  1.0\n"
          ]
        }
      ]
    },
    {
      "cell_type": "markdown",
      "source": [
        "accuracy on test data"
      ],
      "metadata": {
        "id": "DUz7n_pQRMPz"
      }
    },
    {
      "cell_type": "code",
      "source": [
        "y_test_pred=cls.predict(x_test_feature)\n",
        "test_accu=accuracy_score(y_test,y_test_pred)\n",
        "test_pre=precision_score(y_test,y_test_pred)\n",
        "test_re=recall_score(y_test,y_test_pred)\n",
        "test_f1=f1_score(y_test,y_test_pred)\n",
        "print(\"accuracy score on test data \",test_accu)\n",
        "print(\"precision score on test data \",test_pre)\n",
        "print(\"recall score on test data \",test_re)\n",
        "print(\"f1 score on test data \",test_f1)"
      ],
      "metadata": {
        "colab": {
          "base_uri": "https://localhost:8080/"
        },
        "id": "XM-KUNFYPwd8",
        "outputId": "c0f0c1ce-ceed-42ca-b765-32fed6d03246"
      },
      "execution_count": null,
      "outputs": [
        {
          "output_type": "stream",
          "name": "stdout",
          "text": [
            "accuracy score on test data  0.9659192825112107\n",
            "precision score on test data  0.968\n",
            "recall score on test data  0.7806451612903226\n",
            "f1 score on test data  0.8642857142857142\n"
          ]
        }
      ]
    },
    {
      "cell_type": "markdown",
      "source": [
        "building a prediction system"
      ],
      "metadata": {
        "id": "p2XNL_UbUdXc"
      }
    },
    {
      "cell_type": "code",
      "source": [
        "input_mail=[\"Nah I don't think he goes to usf, he lives around here though\"]\n",
        "input_feature=feature.transform(input_mail)\n",
        "pred=cls.predict(input_feature)\n",
        "if(pred[0]==0):\n",
        "  print(\"ham\")\n",
        "else:\n",
        "  print(\"spam\")"
      ],
      "metadata": {
        "id": "D_VpSkuzSLR2",
        "colab": {
          "base_uri": "https://localhost:8080/"
        },
        "outputId": "81bdf693-e9e2-4798-8b31-7efa0dd2c1d0"
      },
      "execution_count": null,
      "outputs": [
        {
          "output_type": "stream",
          "name": "stdout",
          "text": [
            "ham\n"
          ]
        }
      ]
    },
    {
      "cell_type": "code",
      "source": [],
      "metadata": {
        "id": "Q05j13DHWyTq"
      },
      "execution_count": null,
      "outputs": []
    }
  ]
}